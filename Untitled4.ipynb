{
  "nbformat": 4,
  "nbformat_minor": 0,
  "metadata": {
    "colab": {
      "provenance": []
    },
    "kernelspec": {
      "name": "python3",
      "display_name": "Python 3"
    },
    "language_info": {
      "name": "python"
    }
  },
  "cells": [
    {
      "cell_type": "code",
      "execution_count": null,
      "metadata": {
        "id": "jT8aA5267BE5"
      },
      "outputs": [],
      "source": [
        "\n",
        "# Jack Ricks\n",
        "# 3/20/24\n",
        "\n",
        "# Web scraping raises various legal and ethical concerns. From a legal standpoint, scraping data without proper authorization may violate terms of service agreements, copyright laws, or even anti-hacking laws, depending on the jurisdiction and the specific circumstances. Ethically, web scraping can raise questions about privacy, as it involves extracting data from websites that may contain personal or sensitive information. Additionally, excessive scraping can put strain on a website's servers, leading to disruptions in service for other users.\n",
        "\n",
        "# A trend line, also known as a line of best fit, is a straight line that represents the general direction or trend of a dataset. It is often used in data visualization to highlight patterns or relationships between variables. The trend line is typically calculated using a mathematical algorithm (such as linear regression) to minimize the overall distance between the line and the data points. The slope and intercept of the trend line provide valuable insights into the relationship between the variables, such as whether they are positively or negatively correlated and the rate of change over time."
      ]
    },
    {
      "cell_type": "code",
      "source": [
        "import requests\n",
        "from bs4 import BeautifulSoup\n",
        "url = 'https://en.wikipedia.org/wiki/Data_science'\n",
        "\n",
        "response = requests.get(url)\n",
        "soup = BeautifulSoup(response.text, 'html.parser')\n",
        "\n",
        "links = soup.find_all('a')\n",
        "\n",
        "links_list = [link.get('href') for link in links if link.get('href') is not None]\n",
        "\n",
        "print(\"Number of links:\", len(links_list))\n",
        "\n",
        "for link in links_list:\n",
        "    print(link)\n"
      ],
      "metadata": {
        "id": "lzmtY5vR7Psw"
      },
      "execution_count": null,
      "outputs": []
    },
    {
      "cell_type": "code",
      "source": [
        "import matplotlib.pyplot as plt\n",
        "\n",
        "list1 = [2,2,3,3,7,15,15,21,21,21,22,22,24,30,33,38,39,42,47,49,51,51,52,53,55,58,59,60,60,61]\n",
        "\n",
        "list2 = [-19.26,12.19,9.29,-9.51,14.80,11.23,3.63,-1.08,16.16,3.45,-2.77,7.46,7.38,15.66,14.73,31.00,26.48,19.28,14.42,36.38,33.35,52.06,28.63,42.91,32.10,29.85,14.40,37.21,21.56,25.36]\n",
        "\n",
        "plt.plot(list1, label='List 1')\n",
        "plt.plot(list2, label='List 2')\n",
        "plt.legend()\n",
        "plt.title('Line Graph')\n",
        "plt.show()\n",
        "\n",
        "plt.scatter(list1, list2)\n",
        "plt.title('Scatter Plot')\n",
        "plt.show()\n",
        "\n",
        "plt.scatter(list1, list2)\n",
        "plt.plot(numpy.unique(list1), numpy.poly1d(numpy.polyfit(list1, list2, 1))(numpy.unique(list1)), color='red')\n",
        "plt.title('Scatter Plot with Trend Line')\n",
        "plt.show()\n"
      ],
      "metadata": {
        "id": "YRe1GbsNEwWO"
      },
      "execution_count": null,
      "outputs": []
    },
    {
      "cell_type": "code",
      "source": [],
      "metadata": {
        "id": "ZvCELLP7E0db"
      },
      "execution_count": null,
      "outputs": []
    }
  ]
}